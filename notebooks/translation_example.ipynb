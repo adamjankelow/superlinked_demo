{
 "cells": [
  {
   "cell_type": "markdown",
   "metadata": {},
   "source": [
    "# Multilingual Food Item Search with LLMs\n",
    "\n",
    "This notebook explores a potential enhancement to the Superlinked framework by adding multilingual food search capabilities.\n",
    "\n",
    "While Superlinked already supports natural language querying, this example demonstrates my own implementation:\n",
    "Using Large Language Models (LLMs) with the `Instructor` package to:\n",
    "\n",
    "- Enable cross-language food search by translating non-English queries\n",
    "- Enrich search results by inferring:\n",
    "  - Standardized food categories \n",
    "  - Estimated nutritional content\n",
    "- Generate structured parameters for more precise semantic matching\n",
    "\n",
    "This approach could be integrated into Superlinked to provide more robust multilingual search functionality.\n"
   ]
  },
  {
   "cell_type": "code",
   "execution_count": 11,
   "metadata": {},
   "outputs": [],
   "source": [
    "# You may need to install the following packages:\n",
    "# pip install pandas numpy pydantic openai instructor superlinked umap-learn\n",
    "# pip install -U transformers\n",
    "# pip install -U torch\n",
    "# pip install -U torchvision\n",
    "# pip install -U torchaudio\n",
    "\n",
    "# Then make sure your virtual environment is available as a Jupyter kernel:\n",
    "# python -m ipykernel install --user --name=venv --display-name \"Python (venv)\"\n",
    "#\n",
    "# Replace \"venv\" with your environment name if different.\n",
    "\n",
    "\n"
   ]
  },
  {
   "cell_type": "code",
   "execution_count": 1,
   "metadata": {},
   "outputs": [
    {
     "name": "stderr",
     "output_type": "stream",
     "text": [
      "2025-04-09 15:33:28.330 WARNING streamlit.runtime.caching.cache_data_api: No runtime found, using MemoryCacheStorageManager\n"
     ]
    }
   ],
   "source": [
    "from dotenv import load_dotenv\n",
    "import os\n",
    "from pydantic import BaseModel, Field\n",
    "from openai import OpenAI\n",
    "import instructor\n",
    "import pandas as pd\n",
    "import numpy as np\n",
    "from enum import Enum\n",
    "from superlinked import framework as sl\n",
    "import sys\n",
    "sys.path.append('../code/')\n",
    "from utills import build_superlinked_app, FoodItem"
   ]
  },
  {
   "cell_type": "markdown",
   "metadata": {},
   "source": [
    "## Loading in data and setting up superlinked"
   ]
  },
  {
   "cell_type": "code",
   "execution_count": 13,
   "metadata": {},
   "outputs": [
    {
     "data": {
      "text/html": [
       "<div>\n",
       "<style scoped>\n",
       "    .dataframe tbody tr th:only-of-type {\n",
       "        vertical-align: middle;\n",
       "    }\n",
       "\n",
       "    .dataframe tbody tr th {\n",
       "        vertical-align: top;\n",
       "    }\n",
       "\n",
       "    .dataframe thead th {\n",
       "        text-align: right;\n",
       "    }\n",
       "</style>\n",
       "<table border=\"1\" class=\"dataframe\">\n",
       "  <thead>\n",
       "    <tr style=\"text-align: right;\">\n",
       "      <th></th>\n",
       "      <th>fdc_id</th>\n",
       "      <th>description</th>\n",
       "      <th>food_category</th>\n",
       "      <th>calories</th>\n",
       "    </tr>\n",
       "  </thead>\n",
       "  <tbody>\n",
       "    <tr>\n",
       "      <th>0</th>\n",
       "      <td>167512</td>\n",
       "      <td>Pillsbury Golden Layer Buttermilk Biscuits, Ar...</td>\n",
       "      <td>Baked Products</td>\n",
       "      <td>307.0</td>\n",
       "    </tr>\n",
       "    <tr>\n",
       "      <th>1</th>\n",
       "      <td>167513</td>\n",
       "      <td>Pillsbury, Cinnamon Rolls with Icing, refriger...</td>\n",
       "      <td>Baked Products</td>\n",
       "      <td>330.0</td>\n",
       "    </tr>\n",
       "    <tr>\n",
       "      <th>2</th>\n",
       "      <td>167514</td>\n",
       "      <td>Kraft Foods, Shake N Bake Original Recipe, Coa...</td>\n",
       "      <td>Baked Products</td>\n",
       "      <td>377.0</td>\n",
       "    </tr>\n",
       "    <tr>\n",
       "      <th>3</th>\n",
       "      <td>167515</td>\n",
       "      <td>George Weston Bakeries, Thomas English Muffins</td>\n",
       "      <td>Baked Products</td>\n",
       "      <td>232.0</td>\n",
       "    </tr>\n",
       "    <tr>\n",
       "      <th>4</th>\n",
       "      <td>167516</td>\n",
       "      <td>Waffles, buttermilk, frozen, ready-to-heat</td>\n",
       "      <td>Baked Products</td>\n",
       "      <td>273.0</td>\n",
       "    </tr>\n",
       "  </tbody>\n",
       "</table>\n",
       "</div>"
      ],
      "text/plain": [
       "   fdc_id                                        description   food_category  \\\n",
       "0  167512  Pillsbury Golden Layer Buttermilk Biscuits, Ar...  Baked Products   \n",
       "1  167513  Pillsbury, Cinnamon Rolls with Icing, refriger...  Baked Products   \n",
       "2  167514  Kraft Foods, Shake N Bake Original Recipe, Coa...  Baked Products   \n",
       "3  167515     George Weston Bakeries, Thomas English Muffins  Baked Products   \n",
       "4  167516         Waffles, buttermilk, frozen, ready-to-heat  Baked Products   \n",
       "\n",
       "   calories  \n",
       "0     307.0  \n",
       "1     330.0  \n",
       "2     377.0  \n",
       "3     232.0  \n",
       "4     273.0  "
      ]
     },
     "execution_count": 13,
     "metadata": {},
     "output_type": "execute_result"
    }
   ],
   "source": [
    "#load food_db\n",
    "food_df = pd.read_parquet('../data/sr_legacy_food_db_clean.parquet')\n",
    "categories = food_df.food_category.drop_duplicates().to_list()\n",
    "cols = ['fdc_id', 'description', 'food_category', 'calories']\n",
    "food_df = food_df[cols]\n",
    "\n",
    "df = food_df\n",
    "#May take a minute to run as adding 7000 items from the df\n",
    "df.head()"
   ]
  },
  {
   "cell_type": "code",
   "execution_count": 14,
   "metadata": {},
   "outputs": [
    {
     "data": {
      "application/vnd.jupyter.widget-view+json": {
       "model_id": "9ec2bddfa1e14c48b13ec84b3d8b878f",
       "version_major": 2,
       "version_minor": 0
      },
      "text/plain": [
       "Fetching 30 files:   0%|          | 0/30 [00:00<?, ?it/s]"
      ]
     },
     "metadata": {},
     "output_type": "display_data"
    }
   ],
   "source": [
    "app, index, food_item_class, description_space, food_category_text_space, food_category_categorical_space, calorie_space = build_superlinked_app(df)"
   ]
  },
  {
   "cell_type": "markdown",
   "metadata": {},
   "source": [
    "## Using LLM Structured Outputs\n",
    "\n",
    "Below, I define a Pydantic `BaseModel` and enforce an `Enum` structure for the food categories based on the categories in the loaded database. This constrains the LLM to select a category from a predefined list.\n",
    "\n",
    "A function is then defined to call a chat completion endpoint, allowing the input of a food item—just text in any language—and returning:\n",
    "\n",
    "- The translated English name  \n",
    "- The corresponding food category (from the enum)  \n",
    "- Estimated caloric information\n"
   ]
  },
  {
   "cell_type": "code",
   "execution_count": 15,
   "metadata": {},
   "outputs": [],
   "source": [
    "# Load environment variables from .env file\n",
    "load_dotenv()\n",
    "\n",
    "api_key = os.getenv('OPENAI_API_KEY')\n",
    "# Access the environment variable\n",
    "if api_key is None:\n",
    "    raise ValueError(\"OPENAI_API_KEY is not set, replace with your own key\")\n",
    "\n",
    "\n",
    "\n",
    "class USDA_diet_categories(Enum):\n",
    "    Dairy_and_Egg_Products = 'Dairy and Egg Products'\n",
    "    Spices_and_Herbs = 'Spices and Herbs'\n",
    "    Baby_Foods = 'Baby Foods'\n",
    "    Fats_and_Oils = 'Fats and Oils'\n",
    "    Poultry_Products = 'Poultry Products'\n",
    "    Soups_Sauces_and_Gravies = 'Soups, Sauces, and Gravies'\n",
    "    Sausages_and_Luncheon_Meats = 'Sausages and Luncheon Meats'\n",
    "    Breakfast_Cereals = 'Breakfast Cereals'\n",
    "    Fruits_and_Fruit_Juices = 'Fruits and Fruit Juices'\n",
    "    Pork_Products = 'Pork Products'\n",
    "    Vegetables_and_Vegetable_Products = 'Vegetables and Vegetable Products'\n",
    "    Nut_and_Seed_Products = 'Nut and Seed Products'\n",
    "    Beef_Products = 'Beef Products'\n",
    "    Beverages = 'Beverages'\n",
    "    Finfish_and_Shellfish_Products = 'Finfish and Shellfish Products'\n",
    "    Legumes_and_Legume_Products = 'Legumes and Legume Products'\n",
    "    Lamb_Veal_and_Game_Products = 'Lamb, Veal, and Game Products'\n",
    "    Baked_Products = 'Baked Products'\n",
    "    Sweets = 'Sweets'\n",
    "    Cereal_Grains_and_Pasta = 'Cereal Grains and Pasta'\n",
    "    Fast_Foods = 'Fast Foods'\n",
    "    Meals_Entrees_and_Side_Dishes = 'Meals, Entrees, and Side Dishes'\n",
    "    Snacks = 'Snacks'\n",
    "    American_Indian_Alaska_Native_Foods = 'American Indian/Alaska Native Foods'\n",
    "    Restaurant_Foods = 'Restaurant Foods'\n",
    "    Branded_Food_Products_Database = 'Branded Food Products Database'\n",
    "    Quality_Control_Materials = 'Quality Control Materials'\n",
    "    Alcoholic_Beverages = 'Alcoholic Beverages'\n",
    "    Dietary_Supplements = 'Dietary Supplements'\n",
    "\n",
    "class PydanticFood(BaseModel):\n",
    "    description: str = Field(..., \n",
    "        description=\"Translate the food item to English.\")\n",
    "    food_category: USDA_diet_categories = Field(..., \n",
    "        description=\"The category of the food item in English.\")\n",
    "    calories: int = Field(..., \n",
    "        description=\"The calories of the food item in kcal per 100g.\")\n",
    "    \n",
    "\n",
    "client = instructor.patch(OpenAI(api_key=api_key))\n",
    "gpt_model  = \"gpt-4o-mini\"\n",
    "\n",
    "\n",
    "def get_structured_output(food_description) -> str:\n",
    "    # TODO: output_format should be a class or something\n",
    "    food_item = client.chat.completions.create(\n",
    "        model=gpt_model, \n",
    "        messages=[{\"role\":\"user\", \"content\":f\"Convert this food item to the given format:\\n{str(food_description)}\"}],\n",
    "        response_model= PydanticFood,  \n",
    "    )\n",
    "\n",
    "    return food_item\n",
    "    "
   ]
  },
  {
   "cell_type": "markdown",
   "metadata": {},
   "source": [
    "### Translating food items and using llm to create additional fields\n",
    "- Below I have a list of 3 items in 3 languages to demonstrate how the translation and imputing of extra information is done "
   ]
  },
  {
   "cell_type": "code",
   "execution_count": 16,
   "metadata": {},
   "outputs": [
    {
     "name": "stdout",
     "output_type": "stream",
     "text": [
      "Original food item:  マンゴー\n",
      "Translated description: Mango\n",
      "Food Category: Fruits and Fruit Juices\n",
      "Calories: 60\n",
      "Original food item:  جبنة\n",
      "Translated description: Cheese\n",
      "Food Category: Dairy and Egg Products\n",
      "Calories: 402\n",
      "Original food item:  Pão\n",
      "Translated description: Bread\n",
      "Food Category: Baked Products\n",
      "Calories: 265\n"
     ]
    }
   ],
   "source": [
    "food_items = [\"マンゴー\", \"جبنة\", \"Pão\"]  # Japanese, Arabic, Portuguese\n",
    "for item in food_items:\n",
    "    food_description = item\n",
    "    llm_result = get_structured_output(food_description)\n",
    "        # Assuming 'result' is an instance of FoodItem\n",
    "    food_description = llm_result.description\n",
    "    food_category = llm_result.food_category.value\n",
    "    calories = llm_result.calories\n",
    "\n",
    "    print(\"Original food item: \", item)\n",
    "    print(f\"Translated description: {food_description}\")\n",
    "    print(f\"Food Category: {food_category}\")\n",
    "    print(f\"Calories: {calories}\")\n",
    "\n",
    "\n"
   ]
  },
  {
   "cell_type": "markdown",
   "metadata": {},
   "source": [
    "### Enhancing Search with LLM Outputs and Superlinked\n",
    "\n",
    "The structured results from the LLM can be used with Superlinked to perform enriched semantic search. By leveraging the inferred attributes—such as standardized description, food category, and caloric content—we enable enrich the information we can use downstream with superlinked to search the database\n"
   ]
  },
  {
   "cell_type": "code",
   "execution_count": 24,
   "metadata": {},
   "outputs": [
    {
     "name": "stdout",
     "output_type": "stream",
     "text": [
      "Original food item:  たまご\n",
      "Performing search of  Egg  in  Dairy and Egg Products  with  155  calories\n"
     ]
    },
    {
     "data": {
      "text/html": [
       "<div>\n",
       "<style scoped>\n",
       "    .dataframe tbody tr th:only-of-type {\n",
       "        vertical-align: middle;\n",
       "    }\n",
       "\n",
       "    .dataframe tbody tr th {\n",
       "        vertical-align: top;\n",
       "    }\n",
       "\n",
       "    .dataframe thead th {\n",
       "        text-align: right;\n",
       "    }\n",
       "</style>\n",
       "<table border=\"1\" class=\"dataframe\">\n",
       "  <thead>\n",
       "    <tr style=\"text-align: right;\">\n",
       "      <th></th>\n",
       "      <th>description</th>\n",
       "      <th>food_category</th>\n",
       "      <th>calories</th>\n",
       "      <th>id</th>\n",
       "      <th>similarity_score</th>\n",
       "    </tr>\n",
       "  </thead>\n",
       "  <tbody>\n",
       "    <tr>\n",
       "      <th>0</th>\n",
       "      <td>Eggnog</td>\n",
       "      <td>Dairy and Egg Products</td>\n",
       "      <td>88.0</td>\n",
       "      <td>171258</td>\n",
       "      <td>0.920735</td>\n",
       "    </tr>\n",
       "    <tr>\n",
       "      <th>1</th>\n",
       "      <td>Egg, whole, cooked, poached</td>\n",
       "      <td>Dairy and Egg Products</td>\n",
       "      <td>143.0</td>\n",
       "      <td>172186</td>\n",
       "      <td>0.884487</td>\n",
       "    </tr>\n",
       "    <tr>\n",
       "      <th>2</th>\n",
       "      <td>Egg, whole, cooked, scrambled</td>\n",
       "      <td>Dairy and Egg Products</td>\n",
       "      <td>149.0</td>\n",
       "      <td>172187</td>\n",
       "      <td>0.882131</td>\n",
       "    </tr>\n",
       "    <tr>\n",
       "      <th>3</th>\n",
       "      <td>Egg, whole, cooked, omelet</td>\n",
       "      <td>Dairy and Egg Products</td>\n",
       "      <td>154.0</td>\n",
       "      <td>172185</td>\n",
       "      <td>0.880628</td>\n",
       "    </tr>\n",
       "    <tr>\n",
       "      <th>4</th>\n",
       "      <td>Egg, whole, raw, fresh</td>\n",
       "      <td>Dairy and Egg Products</td>\n",
       "      <td>143.0</td>\n",
       "      <td>171287</td>\n",
       "      <td>0.879458</td>\n",
       "    </tr>\n",
       "  </tbody>\n",
       "</table>\n",
       "</div>"
      ],
      "text/plain": [
       "                     description           food_category  calories      id  \\\n",
       "0                         Eggnog  Dairy and Egg Products      88.0  171258   \n",
       "1    Egg, whole, cooked, poached  Dairy and Egg Products     143.0  172186   \n",
       "2  Egg, whole, cooked, scrambled  Dairy and Egg Products     149.0  172187   \n",
       "3     Egg, whole, cooked, omelet  Dairy and Egg Products     154.0  172185   \n",
       "4         Egg, whole, raw, fresh  Dairy and Egg Products     143.0  171287   \n",
       "\n",
       "   similarity_score  \n",
       "0          0.920735  \n",
       "1          0.884487  \n",
       "2          0.882131  \n",
       "3          0.880628  \n",
       "4          0.879458  "
      ]
     },
     "execution_count": 24,
     "metadata": {},
     "output_type": "execute_result"
    }
   ],
   "source": [
    "food_item = 'たまご'\n",
    "llm_result = get_structured_output(food_item)\n",
    "    # Assuming 'result' is an instance of FoodItem\n",
    "food_description = llm_result.description\n",
    "food_category = llm_result.food_category.value\n",
    "calories = llm_result.calories\n",
    "\n",
    "\n",
    "print(\"Original food item: \", food_item)\n",
    "\n",
    "print(\"Performing search of \", food_description, \" in \", food_category, \" with \", calories, \" calories\")\n",
    "\n",
    "query = (\n",
    "    sl.Query(index, \n",
    "    )\n",
    "    .find(food_item_class)\n",
    "    .similar(food_category_text_space, sl.Param(\"query_categories\"))\n",
    "    .similar(description_space, sl.Param(\"query_text\"))\n",
    "    .similar(calorie_space, sl.Param(\"calories_per_100g\"))\n",
    "    .select_all()\n",
    ")\n",
    " \n",
    "search_results= app.query(query, query_categories=food_category, query_text=food_description, calories_per_100g=calories)\n",
    "\n",
    "sl.PandasConverter.to_pandas(search_results).head()"
   ]
  },
  {
   "cell_type": "markdown",
   "metadata": {},
   "source": [
    "## Natural language query\n",
    "- Below I attempt to use the Natrual language query capability to do something similar"
   ]
  },
  {
   "cell_type": "code",
   "execution_count": 27,
   "metadata": {},
   "outputs": [
    {
     "data": {
      "text/html": [
       "<div>\n",
       "<style scoped>\n",
       "    .dataframe tbody tr th:only-of-type {\n",
       "        vertical-align: middle;\n",
       "    }\n",
       "\n",
       "    .dataframe tbody tr th {\n",
       "        vertical-align: top;\n",
       "    }\n",
       "\n",
       "    .dataframe thead th {\n",
       "        text-align: right;\n",
       "    }\n",
       "</style>\n",
       "<table border=\"1\" class=\"dataframe\">\n",
       "  <thead>\n",
       "    <tr style=\"text-align: right;\">\n",
       "      <th></th>\n",
       "      <th>description</th>\n",
       "      <th>food_category</th>\n",
       "      <th>calories</th>\n",
       "      <th>id</th>\n",
       "      <th>similarity_score</th>\n",
       "    </tr>\n",
       "  </thead>\n",
       "  <tbody>\n",
       "    <tr>\n",
       "      <th>0</th>\n",
       "      <td>Eggnog</td>\n",
       "      <td>Dairy and Egg Products</td>\n",
       "      <td>88.0</td>\n",
       "      <td>171258</td>\n",
       "      <td>0.802670</td>\n",
       "    </tr>\n",
       "    <tr>\n",
       "      <th>1</th>\n",
       "      <td>Egg, whole, cooked, poached</td>\n",
       "      <td>Dairy and Egg Products</td>\n",
       "      <td>143.0</td>\n",
       "      <td>172186</td>\n",
       "      <td>0.766422</td>\n",
       "    </tr>\n",
       "    <tr>\n",
       "      <th>2</th>\n",
       "      <td>Egg, whole, cooked, scrambled</td>\n",
       "      <td>Dairy and Egg Products</td>\n",
       "      <td>149.0</td>\n",
       "      <td>172187</td>\n",
       "      <td>0.764066</td>\n",
       "    </tr>\n",
       "    <tr>\n",
       "      <th>3</th>\n",
       "      <td>Egg, whole, cooked, omelet</td>\n",
       "      <td>Dairy and Egg Products</td>\n",
       "      <td>154.0</td>\n",
       "      <td>172185</td>\n",
       "      <td>0.762563</td>\n",
       "    </tr>\n",
       "    <tr>\n",
       "      <th>4</th>\n",
       "      <td>Egg, whole, raw, fresh</td>\n",
       "      <td>Dairy and Egg Products</td>\n",
       "      <td>143.0</td>\n",
       "      <td>171287</td>\n",
       "      <td>0.761393</td>\n",
       "    </tr>\n",
       "  </tbody>\n",
       "</table>\n",
       "</div>"
      ],
      "text/plain": [
       "                     description           food_category  calories      id  \\\n",
       "0                         Eggnog  Dairy and Egg Products      88.0  171258   \n",
       "1    Egg, whole, cooked, poached  Dairy and Egg Products     143.0  172186   \n",
       "2  Egg, whole, cooked, scrambled  Dairy and Egg Products     149.0  172187   \n",
       "3     Egg, whole, cooked, omelet  Dairy and Egg Products     154.0  172185   \n",
       "4         Egg, whole, raw, fresh  Dairy and Egg Products     143.0  171287   \n",
       "\n",
       "   similarity_score  \n",
       "0          0.802670  \n",
       "1          0.766422  \n",
       "2          0.764066  \n",
       "3          0.762563  \n",
       "4          0.761393  "
      ]
     },
     "execution_count": 27,
     "metadata": {},
     "output_type": "execute_result"
    }
   ],
   "source": [
    "# fill this with your API key - this will drive param extraction\n",
    "openai_config = sl.OpenAIClientConfig(api_key=api_key, model=gpt_model  )\n",
    "\n",
    "# it is possible now to add descriptions to a `Param` to aid the parsing of information from natural language queries.\n",
    "text_similar_param = sl.Param(\n",
    "    \"query_text\",\n",
    "    description=(\n",
    "        \"The text in the user's query that is used to search in the products' description.\"\n",
    "        \" Extract info that does not apply to other spaces or params.\"\n",
    "    ),\n",
    ")\n",
    "\n",
    "query = (\n",
    "    sl.Query(index, \n",
    "    )\n",
    "    .find(food_item_class)\n",
    "    .similar(food_category_text_space, sl.Param(\"query_categories\", description=\"Assign a food category based off the text in the user's query.\"))\n",
    "    .similar(description_space, sl.Param(\"query_text\", description=\"Translate the food item to English of the user's query.\"))\n",
    "    .similar(calorie_space, sl.Param(\"calories_per_100g\", description=\"Estimate the calories of the food item in kcal per 100g.\"))\n",
    "    .select_all()\n",
    "    .limit(sl.Param(\"limit\"))\n",
    "    .with_natural_query(sl.Param(\"natural_query\"), openai_config)\n",
    ")\n",
    " \n",
    "food_item = 'たまご'\n",
    "search_results= app.query(query, natural_query=food_item, limit=10)\n",
    "sl.PandasConverter.to_pandas(search_results).head()"
   ]
  },
  {
   "cell_type": "code",
   "execution_count": 28,
   "metadata": {},
   "outputs": [
    {
     "data": {
      "text/plain": [
       "{'query_categories': 'Eggs',\n",
       " 'similar_filter_TextSimilaritySpace_3107_FoodItem_food_category_weight_param__': 1.0,\n",
       " 'query_text': 'Egg',\n",
       " 'similar_filter_TextSimilaritySpace_db50_FoodItem_description_weight_param__': 1.0,\n",
       " 'calories_per_100g': 155.0,\n",
       " 'similar_filter_NumberSpace_bdef_FoodItem_calories_weight_param__': 1.0,\n",
       " 'select_param__': ['description', 'food_category', 'calories'],\n",
       " 'limit': 10,\n",
       " 'natural_query': 'たまご',\n",
       " 'radius_param__': None,\n",
       " 'space_weight_TextSimilaritySpace_db50_param__': 1.0,\n",
       " 'space_weight_TextSimilaritySpace_3107_param__': 1.0,\n",
       " 'space_weight_CategoricalSimilaritySpace_9674_param__': 1.0,\n",
       " 'space_weight_NumberSpace_bdef_param__': 1.0}"
      ]
     },
     "execution_count": 28,
     "metadata": {},
     "output_type": "execute_result"
    }
   ],
   "source": [
    "search_results.metadata.search_params"
   ]
  },
  {
   "cell_type": "markdown",
   "metadata": {},
   "source": []
  }
 ],
 "metadata": {
  "kernelspec": {
   "display_name": "venv",
   "language": "python",
   "name": "python3"
  },
  "language_info": {
   "codemirror_mode": {
    "name": "ipython",
    "version": 3
   },
   "file_extension": ".py",
   "mimetype": "text/x-python",
   "name": "python",
   "nbconvert_exporter": "python",
   "pygments_lexer": "ipython3",
   "version": "3.11.5"
  }
 },
 "nbformat": 4,
 "nbformat_minor": 2
}
