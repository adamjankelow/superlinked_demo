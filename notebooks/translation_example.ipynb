{
 "cells": [
  {
   "cell_type": "markdown",
   "metadata": {},
   "source": [
    "# Multilingual Food Item Search with LLMs\n",
    "\n",
    "This notebook demonstrates how to take a food item in any language and use a Large Language Model (LLM), together with the `Instructor` Python package, to:\n",
    "\n",
    "- Translate and standardize the food name  \n",
    "- Infer missing information such as:\n",
    "  - Food category  \n",
    "  - Caloric content  \n",
    "- Generate additional structured parameters for enhanced search functionality\n",
    "\n",
    "\n"
   ]
  },
  {
   "cell_type": "code",
   "execution_count": 81,
   "metadata": {},
   "outputs": [],
   "source": [
    "from dotenv import load_dotenv\n",
    "import os\n",
    "from pydantic import BaseModel, Field\n",
    "from openai import OpenAI\n",
    "import instructor\n",
    "import pandas as pd\n",
    "import numpy as np\n",
    "from enum import Enum\n",
    "from superlinked import framework as sl\n",
    "import sys\n",
    "sys.path.append('../code/')\n",
    "from utills import build_superlinked_app, FoodItem"
   ]
  },
  {
   "cell_type": "markdown",
   "metadata": {},
   "source": [
    "## Loading in data and setting up superlinked"
   ]
  },
  {
   "cell_type": "code",
   "execution_count": 56,
   "metadata": {},
   "outputs": [],
   "source": [
    "#load food_db\n",
    "food_df = pd.read_parquet('../data/sr_legacy_food_db_clean.parquet')\n",
    "categories = food_df.food_category.drop_duplicates().to_list()\n",
    "cols = ['fdc_id', 'description', 'food_category', 'calories']\n",
    "food_df = food_df[cols]\n",
    "\n",
    "df = food_df\n",
    "app, index, food_item_class, description_space, food_category_text_space, food_category_categorical_space, energy_space = build_superlinked_app(df)\n"
   ]
  },
  {
   "cell_type": "markdown",
   "metadata": {},
   "source": [
    "## Using LLM Structured Outputs\n",
    "\n",
    "Below, I define a Pydantic `BaseModel` and enforce an `Enum` structure for the food categories based on the categories in the loaded database. This constrains the LLM to select a category from a predefined list.\n",
    "\n",
    "A function is then defined to call a chat completion endpoint, allowing the input of a food item—just text in any language—and returning:\n",
    "\n",
    "- The translated English name  \n",
    "- The corresponding food category (from the enum)  \n",
    "- Estimated caloric information\n"
   ]
  },
  {
   "cell_type": "code",
   "execution_count": 82,
   "metadata": {},
   "outputs": [],
   "source": [
    "# Load environment variables from .env file\n",
    "load_dotenv()\n",
    "\n",
    "# Access the environment variable\n",
    "api_key = os.getenv('OPENAI_API_KEY')\n",
    "\n",
    "\n",
    "class USDA_diet_categories(Enum):\n",
    "    Dairy_and_Egg_Products = 'Dairy and Egg Products'\n",
    "    Spices_and_Herbs = 'Spices and Herbs'\n",
    "    Baby_Foods = 'Baby Foods'\n",
    "    Fats_and_Oils = 'Fats and Oils'\n",
    "    Poultry_Products = 'Poultry Products'\n",
    "    Soups_Sauces_and_Gravies = 'Soups, Sauces, and Gravies'\n",
    "    Sausages_and_Luncheon_Meats = 'Sausages and Luncheon Meats'\n",
    "    Breakfast_Cereals = 'Breakfast Cereals'\n",
    "    Fruits_and_Fruit_Juices = 'Fruits and Fruit Juices'\n",
    "    Pork_Products = 'Pork Products'\n",
    "    Vegetables_and_Vegetable_Products = 'Vegetables and Vegetable Products'\n",
    "    Nut_and_Seed_Products = 'Nut and Seed Products'\n",
    "    Beef_Products = 'Beef Products'\n",
    "    Beverages = 'Beverages'\n",
    "    Finfish_and_Shellfish_Products = 'Finfish and Shellfish Products'\n",
    "    Legumes_and_Legume_Products = 'Legumes and Legume Products'\n",
    "    Lamb_Veal_and_Game_Products = 'Lamb, Veal, and Game Products'\n",
    "    Baked_Products = 'Baked Products'\n",
    "    Sweets = 'Sweets'\n",
    "    Cereal_Grains_and_Pasta = 'Cereal Grains and Pasta'\n",
    "    Fast_Foods = 'Fast Foods'\n",
    "    Meals_Entrees_and_Side_Dishes = 'Meals, Entrees, and Side Dishes'\n",
    "    Snacks = 'Snacks'\n",
    "    American_Indian_Alaska_Native_Foods = 'American Indian/Alaska Native Foods'\n",
    "    Restaurant_Foods = 'Restaurant Foods'\n",
    "    Branded_Food_Products_Database = 'Branded Food Products Database'\n",
    "    Quality_Control_Materials = 'Quality Control Materials'\n",
    "    Alcoholic_Beverages = 'Alcoholic Beverages'\n",
    "    Dietary_Supplements = 'Dietary Supplements'\n",
    "\n",
    "class PydanticFood(BaseModel):\n",
    "    description: str = Field(..., \n",
    "        description=\"Translate the food item to English.\")\n",
    "    food_category: USDA_diet_categories = Field(..., \n",
    "        description=\"The category of the food item in English.\")\n",
    "    calories: int = Field(..., \n",
    "        description=\"The calories of the food item in kcal per 100g.\")\n",
    "    \n",
    "\n",
    "client = instructor.patch(OpenAI(api_key=api_key))\n",
    "gpt_model  = \"gpt-4o-mini\"\n",
    "\n",
    "\n",
    "def get_structured_output(food_description) -> str:\n",
    "    # TODO: output_format should be a class or something\n",
    "    food_item = client.chat.completions.create(\n",
    "        model=gpt_model, \n",
    "        messages=[{\"role\":\"user\", \"content\":f\"Convert this food item to the given format:\\n{str(food_description)}\"}],\n",
    "        response_model= PydanticFood,  \n",
    "    )\n",
    "\n",
    "    return food_item\n",
    "    "
   ]
  },
  {
   "cell_type": "markdown",
   "metadata": {},
   "source": [
    "### Translating food items and using llm to create additional fields"
   ]
  },
  {
   "cell_type": "code",
   "execution_count": 65,
   "metadata": {},
   "outputs": [
    {
     "name": "stdout",
     "output_type": "stream",
     "text": [
      "Original food item:  マンゴー\n",
      "Translated description: Mango\n",
      "Food Category: Fruits and Fruit Juices\n",
      "Calories: 60\n",
      "Original food item:  جبنة\n",
      "Translated description: Cheese\n",
      "Food Category: Dairy and Egg Products\n",
      "Calories: 402\n",
      "Original food item:  Pão\n",
      "Translated description: Bread\n",
      "Food Category: Baked Products\n",
      "Calories: 265\n"
     ]
    }
   ],
   "source": [
    "food_items = [\"マンゴー\", \"جبنة\", \"Pão\"]  # Japanese, Arabic, Portuguese\n",
    "for item in food_items:\n",
    "    food_description = item\n",
    "    llm_result = get_structured_output(food_description)\n",
    "        # Assuming 'result' is an instance of FoodItem\n",
    "    food_description = llm_result.description\n",
    "    food_category = llm_result.food_category.value\n",
    "    calories = llm_result.calories\n",
    "\n",
    "    print(\"Original food item: \", item)\n",
    "    print(f\"Translated description: {food_description}\")\n",
    "    print(f\"Food Category: {food_category}\")\n",
    "    print(f\"Calories: {calories}\")\n",
    "\n",
    "\n"
   ]
  },
  {
   "cell_type": "markdown",
   "metadata": {},
   "source": [
    "### Enhancing Search with LLM Outputs and Superlinked\n",
    "\n",
    "The structured results from the LLM can be used with Superlinked to perform enriched semantic search. By leveraging the inferred attributes—such as standardized description, food category, and caloric content—we enable more accurate and flexible search across multilingual food databases.\n"
   ]
  },
  {
   "cell_type": "code",
   "execution_count": 86,
   "metadata": {},
   "outputs": [
    {
     "name": "stdout",
     "output_type": "stream",
     "text": [
      "Original food item:  Pão\n",
      "Performing search of  Egg  in  Dairy and Egg Products  with  155  calories\n"
     ]
    },
    {
     "data": {
      "text/html": [
       "<div>\n",
       "<style scoped>\n",
       "    .dataframe tbody tr th:only-of-type {\n",
       "        vertical-align: middle;\n",
       "    }\n",
       "\n",
       "    .dataframe tbody tr th {\n",
       "        vertical-align: top;\n",
       "    }\n",
       "\n",
       "    .dataframe thead th {\n",
       "        text-align: right;\n",
       "    }\n",
       "</style>\n",
       "<table border=\"1\" class=\"dataframe\">\n",
       "  <thead>\n",
       "    <tr style=\"text-align: right;\">\n",
       "      <th></th>\n",
       "      <th>description</th>\n",
       "      <th>food_category</th>\n",
       "      <th>calories</th>\n",
       "      <th>id</th>\n",
       "      <th>similarity_score</th>\n",
       "    </tr>\n",
       "  </thead>\n",
       "  <tbody>\n",
       "    <tr>\n",
       "      <th>0</th>\n",
       "      <td>Eggnog</td>\n",
       "      <td>Dairy and Egg Products</td>\n",
       "      <td>88.0</td>\n",
       "      <td>171258</td>\n",
       "      <td>0.920735</td>\n",
       "    </tr>\n",
       "    <tr>\n",
       "      <th>1</th>\n",
       "      <td>Egg, whole, cooked, poached</td>\n",
       "      <td>Dairy and Egg Products</td>\n",
       "      <td>143.0</td>\n",
       "      <td>172186</td>\n",
       "      <td>0.884487</td>\n",
       "    </tr>\n",
       "    <tr>\n",
       "      <th>2</th>\n",
       "      <td>Egg, whole, cooked, scrambled</td>\n",
       "      <td>Dairy and Egg Products</td>\n",
       "      <td>149.0</td>\n",
       "      <td>172187</td>\n",
       "      <td>0.882131</td>\n",
       "    </tr>\n",
       "    <tr>\n",
       "      <th>3</th>\n",
       "      <td>Egg, whole, cooked, omelet</td>\n",
       "      <td>Dairy and Egg Products</td>\n",
       "      <td>154.0</td>\n",
       "      <td>172185</td>\n",
       "      <td>0.880628</td>\n",
       "    </tr>\n",
       "    <tr>\n",
       "      <th>4</th>\n",
       "      <td>Egg, whole, raw, fresh</td>\n",
       "      <td>Dairy and Egg Products</td>\n",
       "      <td>143.0</td>\n",
       "      <td>171287</td>\n",
       "      <td>0.879458</td>\n",
       "    </tr>\n",
       "  </tbody>\n",
       "</table>\n",
       "</div>"
      ],
      "text/plain": [
       "                     description           food_category  calories      id  \\\n",
       "0                         Eggnog  Dairy and Egg Products      88.0  171258   \n",
       "1    Egg, whole, cooked, poached  Dairy and Egg Products     143.0  172186   \n",
       "2  Egg, whole, cooked, scrambled  Dairy and Egg Products     149.0  172187   \n",
       "3     Egg, whole, cooked, omelet  Dairy and Egg Products     154.0  172185   \n",
       "4         Egg, whole, raw, fresh  Dairy and Egg Products     143.0  171287   \n",
       "\n",
       "   similarity_score  \n",
       "0          0.920735  \n",
       "1          0.884487  \n",
       "2          0.882131  \n",
       "3          0.880628  \n",
       "4          0.879458  "
      ]
     },
     "execution_count": 86,
     "metadata": {},
     "output_type": "execute_result"
    }
   ],
   "source": [
    "food_item = 'たまご'\n",
    "llm_result = get_structured_output(food_item)\n",
    "    # Assuming 'result' is an instance of FoodItem\n",
    "food_description = llm_result.description\n",
    "food_category = llm_result.food_category.value\n",
    "calories = llm_result.calories\n",
    "\n",
    "\n",
    "print(\"Original food item: \", item)\n",
    "\n",
    "print(\"Performing search of \", food_description, \" in \", food_category, \" with \", calories, \" calories\")\n",
    "\n",
    "query = (\n",
    "    sl.Query(index, \n",
    "    )\n",
    "    .find(food_item_class)\n",
    "    .similar(food_category_text_space, sl.Param(\"query_categories\"))\n",
    "    .similar(description_space, sl.Param(\"query_text\"))\n",
    "    .similar(energy_space, sl.Param(\"calories_per_100g\"))\n",
    "    .select_all()\n",
    ")\n",
    " \n",
    "search_results= app.query(query, query_categories=food_category, query_text=food_description, calories_per_100g=calories)\n",
    "\n",
    "sl.PandasConverter.to_pandas(search_results).head()"
   ]
  },
  {
   "cell_type": "markdown",
   "metadata": {},
   "source": [
    "## Natural language query"
   ]
  },
  {
   "cell_type": "code",
   "execution_count": 79,
   "metadata": {},
   "outputs": [],
   "source": [
    "# fill this with your API key - this will drive param extraction\n",
    "openai_config = sl.OpenAIClientConfig(api_key=api_key, model=gpt_model  )\n",
    "\n",
    "# it is possible now to add descriptions to a `Param` to aid the parsing of information from natural language queries.\n",
    "text_similar_param = sl.Param(\n",
    "    \"query_text\",\n",
    "    description=(\n",
    "        \"The text in the user's query that is used to search in the products' description.\"\n",
    "        \" Extract info that does not apply to other spaces or params.\"\n",
    "    ),\n",
    ")\n",
    "\n",
    "\n",
    "query = (\n",
    "    sl.Query(index, \n",
    "    )\n",
    "    .find(food_item_class)\n",
    "    .similar(food_category_text_space, sl.Param(\"query_categories\", description=\"Assign a food category based off the text in the user's query.\"))\n",
    "    .similar(description_space, sl.Param(\"query_text\", description=\"Translate the food item to English.\"))\n",
    "    .similar(energy_space, sl.Param(\"calories_per_100g\", description=\"Estimate the calories of the food item in kcal per 100g.\"))\n",
    "    .select_all()\n",
    "    .limit(sl.Param(\"limit\"))\n",
    "    .with_natural_query(sl.Param(\"natural_query\"), openai_config)\n",
    ")\n",
    " \n",
    "search_results= app.query(query, natural_query='Look for Pão')\n"
   ]
  },
  {
   "cell_type": "code",
   "execution_count": 80,
   "metadata": {},
   "outputs": [
    {
     "data": {
      "text/plain": [
       "{'query_categories': 'Baked Products',\n",
       " 'similar_filter_TextSimilaritySpace_8e13_FoodItem_food_category_weight_param__': 1.0,\n",
       " 'query_text': 'Pão',\n",
       " 'similar_filter_TextSimilaritySpace_656f_FoodItem_description_weight_param__': 1.0,\n",
       " 'calories_per_100g': 0.0,\n",
       " 'similar_filter_NumberSpace_3fa2_FoodItem_calories_weight_param__': 1.0,\n",
       " 'select_param__': ['description', 'food_category', 'calories'],\n",
       " 'limit': None,\n",
       " 'natural_query': 'Look for Pão',\n",
       " 'radius_param__': None,\n",
       " 'space_weight_TextSimilaritySpace_656f_param__': 1.0,\n",
       " 'space_weight_TextSimilaritySpace_8e13_param__': 1.0,\n",
       " 'space_weight_CategoricalSimilaritySpace_5160_param__': 1.0,\n",
       " 'space_weight_NumberSpace_3fa2_param__': 1.0}"
      ]
     },
     "execution_count": 80,
     "metadata": {},
     "output_type": "execute_result"
    }
   ],
   "source": [
    "search_results.metadata.search_params"
   ]
  },
  {
   "cell_type": "markdown",
   "metadata": {},
   "source": []
  }
 ],
 "metadata": {
  "kernelspec": {
   "display_name": "venv",
   "language": "python",
   "name": "python3"
  },
  "language_info": {
   "codemirror_mode": {
    "name": "ipython",
    "version": 3
   },
   "file_extension": ".py",
   "mimetype": "text/x-python",
   "name": "python",
   "nbconvert_exporter": "python",
   "pygments_lexer": "ipython3",
   "version": "3.11.5"
  }
 },
 "nbformat": 4,
 "nbformat_minor": 2
}
