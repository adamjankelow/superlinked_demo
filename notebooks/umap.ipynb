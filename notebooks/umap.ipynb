{
 "cells": [
  {
   "cell_type": "code",
   "execution_count": 1,
   "metadata": {},
   "outputs": [
    {
     "name": "stderr",
     "output_type": "stream",
     "text": [
      "2025-04-07 17:12:18.303 WARNING streamlit.runtime.caching.cache_data_api: No runtime found, using MemoryCacheStorageManager\n"
     ]
    }
   ],
   "source": [
    "import pandas as pd\n",
    "import json\n",
    "from superlinked import framework as sl\n",
    "import sys\n",
    "sys.path.append('../code/')\n",
    "from utills import load_data, build_superlinked_app\n",
    "import umap\n",
    "import altair as alt"
   ]
  },
  {
   "cell_type": "code",
   "execution_count": 2,
   "metadata": {},
   "outputs": [
    {
     "name": "stderr",
     "output_type": "stream",
     "text": [
      "2025-04-07 15:05:42.939 WARNING streamlit.runtime.caching.cache_data_api: No runtime found, using MemoryCacheStorageManager\n",
      "2025-04-07 15:05:42.940 WARNING streamlit.runtime.scriptrunner_utils.script_run_context: Thread 'MainThread': missing ScriptRunContext! This warning can be ignored when running in bare mode.\n",
      "2025-04-07 15:05:43.056 \n",
      "  \u001b[33m\u001b[1mWarning:\u001b[0m to view this Streamlit app on a browser, run it with the following\n",
      "  command:\n",
      "\n",
      "    streamlit run /home/ec2-user/projects/PhenoDS/superlinked_demo/venv/lib/python3.11/site-packages/ipykernel_launcher.py [ARGUMENTS]\n",
      "2025-04-07 15:05:43.057 Thread 'MainThread': missing ScriptRunContext! This warning can be ignored when running in bare mode.\n",
      "2025-04-07 15:05:43.058 Thread 'MainThread': missing ScriptRunContext! This warning can be ignored when running in bare mode.\n",
      "2025-04-07 15:05:43.086 Thread 'MainThread': missing ScriptRunContext! This warning can be ignored when running in bare mode.\n",
      "2025-04-07 15:05:43.086 Thread 'MainThread': missing ScriptRunContext! This warning can be ignored when running in bare mode.\n"
     ]
    }
   ],
   "source": [
    "df = load_data(sample_size=1000)\n",
    "app, index, food_item, description_space, food_category_text_space, food_category_categorical_space, energy_space = build_superlinked_app(df)\n"
   ]
  },
  {
   "cell_type": "code",
   "execution_count": 4,
   "metadata": {},
   "outputs": [
    {
     "name": "stderr",
     "output_type": "stream",
     "text": [
      "/home/ec2-user/projects/PhenoDS/superlinked_demo/venv/lib/python3.11/site-packages/sklearn/utils/deprecation.py:151: FutureWarning: 'force_all_finite' was renamed to 'ensure_all_finite' in 1.6 and will be removed in 1.8.\n",
      "  warnings.warn(\n",
      "/home/ec2-user/projects/PhenoDS/superlinked_demo/venv/lib/python3.11/site-packages/sklearn/utils/deprecation.py:151: FutureWarning: 'force_all_finite' was renamed to 'ensure_all_finite' in 1.6 and will be removed in 1.8.\n",
      "  warnings.warn(\n"
     ]
    }
   ],
   "source": [
    "# collect all vectors from the app\n",
    "vs = sl.VectorSampler(app=app)\n",
    "vector_collection = vs.get_all_vectors(index, food_item)\n",
    "vectors = vector_collection.vectors\n",
    "vector_df = pd.DataFrame(vectors, index=[int(id_) for id_ in vector_collection.id_list])\n",
    "vector_df.head()\n",
    "umap_transform = umap.UMAP(random_state=0, transform_seed=0, n_jobs=1, metric=\"cosine\")\n",
    "umap_transform = umap_transform.fit(vector_df)\n",
    "umap_vectors = umap_transform.transform(vector_df)\n",
    "umap_df = pd.DataFrame(umap_vectors, columns=[\"dimension_1\", \"dimension_2\"], index=vector_df.index)\n",
    "umap_df = umap_df.join(df.set_index('fdc_id')[['description', 'food_category', 'calories']])"
   ]
  },
  {
   "cell_type": "code",
   "execution_count": 6,
   "metadata": {},
   "outputs": [
    {
     "data": {
      "text/html": [
       "\n",
       "<style>\n",
       "  #altair-viz-cb2b99a4c33e4885a5da3d69f2e112b8.vega-embed {\n",
       "    width: 100%;\n",
       "    display: flex;\n",
       "  }\n",
       "\n",
       "  #altair-viz-cb2b99a4c33e4885a5da3d69f2e112b8.vega-embed details,\n",
       "  #altair-viz-cb2b99a4c33e4885a5da3d69f2e112b8.vega-embed details summary {\n",
       "    position: relative;\n",
       "  }\n",
       "</style>\n",
       "<div id=\"altair-viz-cb2b99a4c33e4885a5da3d69f2e112b8\"></div>\n",
       "<script type=\"text/javascript\">\n",
       "  var VEGA_DEBUG = (typeof VEGA_DEBUG == \"undefined\") ? {} : VEGA_DEBUG;\n",
       "  (function(spec, embedOpt){\n",
       "    let outputDiv = document.currentScript.previousElementSibling;\n",
       "    if (outputDiv.id !== \"altair-viz-cb2b99a4c33e4885a5da3d69f2e112b8\") {\n",
       "      outputDiv = document.getElementById(\"altair-viz-cb2b99a4c33e4885a5da3d69f2e112b8\");\n",
       "    }\n",
       "\n",
       "    const paths = {\n",
       "      \"vega\": \"https://cdn.jsdelivr.net/npm/vega@5?noext\",\n",
       "      \"vega-lib\": \"https://cdn.jsdelivr.net/npm/vega-lib?noext\",\n",
       "      \"vega-lite\": \"https://cdn.jsdelivr.net/npm/vega-lite@5.20.1?noext\",\n",
       "      \"vega-embed\": \"https://cdn.jsdelivr.net/npm/vega-embed@6?noext\",\n",
       "    };\n",
       "\n",
       "    function maybeLoadScript(lib, version) {\n",
       "      var key = `${lib.replace(\"-\", \"\")}_version`;\n",
       "      return (VEGA_DEBUG[key] == version) ?\n",
       "        Promise.resolve(paths[lib]) :\n",
       "        new Promise(function(resolve, reject) {\n",
       "          var s = document.createElement('script');\n",
       "          document.getElementsByTagName(\"head\")[0].appendChild(s);\n",
       "          s.async = true;\n",
       "          s.onload = () => {\n",
       "            VEGA_DEBUG[key] = version;\n",
       "            return resolve(paths[lib]);\n",
       "          };\n",
       "          s.onerror = () => reject(`Error loading script: ${paths[lib]}`);\n",
       "          s.src = paths[lib];\n",
       "        });\n",
       "    }\n",
       "\n",
       "    function showError(err) {\n",
       "      outputDiv.innerHTML = `<div class=\"error\" style=\"color:red;\">${err}</div>`;\n",
       "      throw err;\n",
       "    }\n",
       "\n",
       "    function displayChart(vegaEmbed) {\n",
       "      vegaEmbed(outputDiv, spec, embedOpt)\n",
       "        .catch(err => showError(`Javascript Error: ${err.message}<br>This usually means there's a typo in your chart specification. See the javascript console for the full traceback.`));\n",
       "    }\n",
       "\n",
       "    if(typeof define === \"function\" && define.amd) {\n",
       "      requirejs.config({paths});\n",
       "      let deps = [\"vega-embed\"];\n",
       "      require(deps, displayChart, err => showError(`Error loading script: ${err.message}`));\n",
       "    } else {\n",
       "      maybeLoadScript(\"vega\", \"5\")\n",
       "        .then(() => maybeLoadScript(\"vega-lite\", \"5.20.1\"))\n",
       "        .then(() => maybeLoadScript(\"vega-embed\", \"6\"))\n",
       "        .catch(showError)\n",
       "        .then(() => displayChart(vegaEmbed));\n",
       "    }\n",
       "  })({\"config\": {\"view\": {\"continuousWidth\": 300, \"continuousHeight\": 300}, \"axis\": {\"labelFontSize\": 12, \"titleFontSize\": 14}, \"legend\": {\"cornerRadius\": 10, \"labelFontSize\": 14, \"padding\": 10, \"strokeColor\": \"black\", \"titleFontSize\": 14}, \"title\": {\"anchor\": \"middle\", \"fontSize\": 16}}, \"data\": {\"name\": \"data-17443f35a722155a4fa937c34a3753de\"}, \"mark\": {\"type\": \"circle\", \"size\": 8}, \"encoding\": {\"color\": {\"field\": \"food_category\", \"type\": \"nominal\"}, \"x\": {\"field\": \"dimension_1\", \"type\": \"quantitative\"}, \"y\": {\"field\": \"dimension_2\", \"type\": \"quantitative\"}}, \"height\": 500, \"title\": \"UMAP Transformed vectors coloured by food category\", \"width\": 600, \"$schema\": \"https://vega.github.io/schema/vega-lite/v5.20.1.json\", \"datasets\": {\"data-17443f35a722155a4fa937c34a3753de\": [{\"dimension_1\": -7.5081586837768555, \"dimension_2\": 4.541827201843262, \"description\": \"Beef, ground, 93% lean meat / 7% fat, raw\", \"food_category\": \"Beef Products\", \"calories\": 152.0}, {\"dimension_1\": -9.549589157104492, \"dimension_2\": 11.004853248596191, \"description\": \"Pork, cured, ham, slice, bone-in, separable lean and fat, heated, pan-broil\", \"food_category\": \"Pork Products\", \"calories\": 181.0}, {\"dimension_1\": -6.09854793548584, \"dimension_2\": 3.7879714965820312, \"description\": \"Beef, short loin, t-bone steak, bone-in, separable lean only, trimmed to 1/8\\\" fat, all grades, raw\", \"food_category\": \"Beef Products\", \"calories\": 153.0}, {\"dimension_1\": 4.3209614753723145, \"dimension_2\": 0.33348265290260315, \"description\": \"PAPA JOHN'S 14\\\" Cheese Pizza, Original Crust\", \"food_category\": \"Fast Foods\", \"calories\": 260.0}, {\"dimension_1\": 7.996424674987793, \"dimension_2\": 3.436034917831421, \"description\": \"Wheat flour, white, tortilla mix, enriched\", \"food_category\": \"Cereal Grains and Pasta\", \"calories\": 405.0}, {\"dimension_1\": 11.594925880432129, \"dimension_2\": 12.354629516601562, \"description\": \"Sesbania flower, cooked, steamed, without salt\", \"food_category\": \"Vegetables and Vegetable Products\", \"calories\": 22.0}, {\"dimension_1\": 12.052401542663574, \"dimension_2\": 12.3546724319458, \"description\": \"Tomato powder\", \"food_category\": \"Vegetables and Vegetable Products\", \"calories\": 302.0}, {\"dimension_1\": 12.372649192810059, \"dimension_2\": 12.77028751373291, \"description\": \"Sweet potato, canned, syrup pack, drained solids\", \"food_category\": \"Vegetables and Vegetable Products\", \"calories\": 108.0}, {\"dimension_1\": 3.025752305984497, \"dimension_2\": -9.643651008605957, \"description\": \"Cookies, Marie biscuit\", \"food_category\": \"Baked Products\", \"calories\": 406.0}, {\"dimension_1\": 19.993261337280273, \"dimension_2\": 3.4719555377960205, \"description\": \"Spices, savory, ground\", \"food_category\": \"Spices and Herbs\", \"calories\": 272.0}]}}, {\"mode\": \"vega-lite\"});\n",
       "</script>"
      ],
      "text/plain": [
       "alt.Chart(...)"
      ]
     },
     "execution_count": 6,
     "metadata": {},
     "output_type": "execute_result"
    }
   ],
   "source": [
    "\n",
    "\n",
    "\n",
    "\n",
    "\n",
    "\n",
    "umap_df.head()\n",
    "\n",
    "\n",
    "\n",
    "import altair as alt\n",
    "alt.Chart(umap_df.head(10)).mark_circle(size=8).encode(x=\"dimension_1\", y=\"dimension_2\", color=\"food_category:N\").properties(\n",
    "    width=600, height=500, title=\"UMAP Transformed vectors coloured by food category\"\n",
    ").configure_title(\n",
    "    fontSize=16,\n",
    "    anchor=\"middle\",\n",
    ").configure_legend(\n",
    "    strokeColor=\"black\",\n",
    "    padding=10,\n",
    "    cornerRadius=10,\n",
    "    labelFontSize=14,\n",
    "    titleFontSize=14,\n",
    ").configure_axis(\n",
    "    titleFontSize=14, labelFontSize=12\n",
    ")"
   ]
  },
  {
   "cell_type": "code",
   "execution_count": null,
   "metadata": {},
   "outputs": [],
   "source": []
  },
  {
   "cell_type": "code",
   "execution_count": null,
   "metadata": {},
   "outputs": [],
   "source": []
  },
  {
   "cell_type": "code",
   "execution_count": null,
   "metadata": {},
   "outputs": [],
   "source": []
  }
 ],
 "metadata": {
  "kernelspec": {
   "display_name": "venv",
   "language": "python",
   "name": "python3"
  },
  "language_info": {
   "codemirror_mode": {
    "name": "ipython",
    "version": 3
   },
   "file_extension": ".py",
   "mimetype": "text/x-python",
   "name": "python",
   "nbconvert_exporter": "python",
   "pygments_lexer": "ipython3",
   "version": "3.11.5"
  }
 },
 "nbformat": 4,
 "nbformat_minor": 2
}
